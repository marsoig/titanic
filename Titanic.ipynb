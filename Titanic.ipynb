{
 "cells": [
  {
   "cell_type": "code",
   "execution_count": 213,
   "id": "d002238e-ae74-4cd4-8bbe-a1240672534f",
   "metadata": {},
   "outputs": [],
   "source": [
    "from pathlib import Path\n",
    "import pandas as pd\n",
    "\n",
    "titanic_train = pd.read_csv(Path(\"datasets/train.csv\"))\n",
    "titanic_test = pd.read_csv(Path(\"datasets/test.csv\"))"
   ]
  },
  {
   "cell_type": "code",
   "execution_count": 214,
   "id": "da8cc70d-658c-4cb8-b0db-0a1031aead96",
   "metadata": {
    "scrolled": true
   },
   "outputs": [
    {
     "data": {
      "text/html": [
       "<div>\n",
       "<style scoped>\n",
       "    .dataframe tbody tr th:only-of-type {\n",
       "        vertical-align: middle;\n",
       "    }\n",
       "\n",
       "    .dataframe tbody tr th {\n",
       "        vertical-align: top;\n",
       "    }\n",
       "\n",
       "    .dataframe thead th {\n",
       "        text-align: right;\n",
       "    }\n",
       "</style>\n",
       "<table border=\"1\" class=\"dataframe\">\n",
       "  <thead>\n",
       "    <tr style=\"text-align: right;\">\n",
       "      <th></th>\n",
       "      <th>PassengerId</th>\n",
       "      <th>Survived</th>\n",
       "      <th>Pclass</th>\n",
       "      <th>Name</th>\n",
       "      <th>Sex</th>\n",
       "      <th>Age</th>\n",
       "      <th>SibSp</th>\n",
       "      <th>Parch</th>\n",
       "      <th>Ticket</th>\n",
       "      <th>Fare</th>\n",
       "      <th>Cabin</th>\n",
       "      <th>Embarked</th>\n",
       "    </tr>\n",
       "  </thead>\n",
       "  <tbody>\n",
       "    <tr>\n",
       "      <th>0</th>\n",
       "      <td>1</td>\n",
       "      <td>0</td>\n",
       "      <td>3</td>\n",
       "      <td>Braund, Mr. Owen Harris</td>\n",
       "      <td>male</td>\n",
       "      <td>22.0</td>\n",
       "      <td>1</td>\n",
       "      <td>0</td>\n",
       "      <td>A/5 21171</td>\n",
       "      <td>7.2500</td>\n",
       "      <td>NaN</td>\n",
       "      <td>S</td>\n",
       "    </tr>\n",
       "    <tr>\n",
       "      <th>1</th>\n",
       "      <td>2</td>\n",
       "      <td>1</td>\n",
       "      <td>1</td>\n",
       "      <td>Cumings, Mrs. John Bradley (Florence Briggs Th...</td>\n",
       "      <td>female</td>\n",
       "      <td>38.0</td>\n",
       "      <td>1</td>\n",
       "      <td>0</td>\n",
       "      <td>PC 17599</td>\n",
       "      <td>71.2833</td>\n",
       "      <td>C85</td>\n",
       "      <td>C</td>\n",
       "    </tr>\n",
       "    <tr>\n",
       "      <th>2</th>\n",
       "      <td>3</td>\n",
       "      <td>1</td>\n",
       "      <td>3</td>\n",
       "      <td>Heikkinen, Miss. Laina</td>\n",
       "      <td>female</td>\n",
       "      <td>26.0</td>\n",
       "      <td>0</td>\n",
       "      <td>0</td>\n",
       "      <td>STON/O2. 3101282</td>\n",
       "      <td>7.9250</td>\n",
       "      <td>NaN</td>\n",
       "      <td>S</td>\n",
       "    </tr>\n",
       "    <tr>\n",
       "      <th>3</th>\n",
       "      <td>4</td>\n",
       "      <td>1</td>\n",
       "      <td>1</td>\n",
       "      <td>Futrelle, Mrs. Jacques Heath (Lily May Peel)</td>\n",
       "      <td>female</td>\n",
       "      <td>35.0</td>\n",
       "      <td>1</td>\n",
       "      <td>0</td>\n",
       "      <td>113803</td>\n",
       "      <td>53.1000</td>\n",
       "      <td>C123</td>\n",
       "      <td>S</td>\n",
       "    </tr>\n",
       "    <tr>\n",
       "      <th>4</th>\n",
       "      <td>5</td>\n",
       "      <td>0</td>\n",
       "      <td>3</td>\n",
       "      <td>Allen, Mr. William Henry</td>\n",
       "      <td>male</td>\n",
       "      <td>35.0</td>\n",
       "      <td>0</td>\n",
       "      <td>0</td>\n",
       "      <td>373450</td>\n",
       "      <td>8.0500</td>\n",
       "      <td>NaN</td>\n",
       "      <td>S</td>\n",
       "    </tr>\n",
       "  </tbody>\n",
       "</table>\n",
       "</div>"
      ],
      "text/plain": [
       "   PassengerId  Survived  Pclass  \\\n",
       "0            1         0       3   \n",
       "1            2         1       1   \n",
       "2            3         1       3   \n",
       "3            4         1       1   \n",
       "4            5         0       3   \n",
       "\n",
       "                                                Name     Sex   Age  SibSp  \\\n",
       "0                            Braund, Mr. Owen Harris    male  22.0      1   \n",
       "1  Cumings, Mrs. John Bradley (Florence Briggs Th...  female  38.0      1   \n",
       "2                             Heikkinen, Miss. Laina  female  26.0      0   \n",
       "3       Futrelle, Mrs. Jacques Heath (Lily May Peel)  female  35.0      1   \n",
       "4                           Allen, Mr. William Henry    male  35.0      0   \n",
       "\n",
       "   Parch            Ticket     Fare Cabin Embarked  \n",
       "0      0         A/5 21171   7.2500   NaN        S  \n",
       "1      0          PC 17599  71.2833   C85        C  \n",
       "2      0  STON/O2. 3101282   7.9250   NaN        S  \n",
       "3      0            113803  53.1000  C123        S  \n",
       "4      0            373450   8.0500   NaN        S  "
      ]
     },
     "execution_count": 214,
     "metadata": {},
     "output_type": "execute_result"
    }
   ],
   "source": [
    "titanic_train.head()"
   ]
  },
  {
   "cell_type": "markdown",
   "id": "bd388930-eb1b-4fe3-805f-1632f98289dd",
   "metadata": {},
   "source": [
    "## Data Dictionary\n",
    "| **Variable** | **Definition** | **Key** |\n",
    "| --- | --- | --- |\n",
    "| survival | Survival | 0 = No, 1 = Yes |\n",
    "| pclass | Ticket class | 1 = 1st, 2 = 2nd, 3 = 3rd |\n",
    "| sex | Sex |     |\n",
    "| Age | Age in years |     |\n",
    "| sibsp | \\# of siblings / spouses aboard the Titanic |     |\n",
    "| parch | \\# of parents / children aboard the Titanic |     |\n",
    "| ticket | Ticket number |     |\n",
    "| fare | Passenger fare |     |\n",
    "| cabin | Cabin number |     |\n",
    "| embarked | Port of Embarkation | C = Cherbourg, Q = Queenstown, S = Southampton |"
   ]
  },
  {
   "cell_type": "code",
   "execution_count": 215,
   "id": "b3ae67ac-a032-403a-93ae-fa9540acdc67",
   "metadata": {
    "scrolled": true
   },
   "outputs": [
    {
     "name": "stdout",
     "output_type": "stream",
     "text": [
      "<class 'pandas.core.frame.DataFrame'>\n",
      "RangeIndex: 891 entries, 0 to 890\n",
      "Data columns (total 12 columns):\n",
      " #   Column       Non-Null Count  Dtype  \n",
      "---  ------       --------------  -----  \n",
      " 0   PassengerId  891 non-null    int64  \n",
      " 1   Survived     891 non-null    int64  \n",
      " 2   Pclass       891 non-null    int64  \n",
      " 3   Name         891 non-null    object \n",
      " 4   Sex          891 non-null    object \n",
      " 5   Age          714 non-null    float64\n",
      " 6   SibSp        891 non-null    int64  \n",
      " 7   Parch        891 non-null    int64  \n",
      " 8   Ticket       891 non-null    object \n",
      " 9   Fare         891 non-null    float64\n",
      " 10  Cabin        204 non-null    object \n",
      " 11  Embarked     889 non-null    object \n",
      "dtypes: float64(2), int64(5), object(5)\n",
      "memory usage: 83.7+ KB\n"
     ]
    }
   ],
   "source": [
    "titanic_train.info()"
   ]
  },
  {
   "cell_type": "markdown",
   "id": "f0a2b148-6140-4873-b6b3-dafede3865b8",
   "metadata": {},
   "source": [
    "### Notes\n",
    "\n",
    "Some rows have missing values in the Age, Cabin and Embarked columns."
   ]
  },
  {
   "cell_type": "code",
   "execution_count": 216,
   "id": "7c8a020c-6dba-4c5e-9bcd-67a53328c267",
   "metadata": {},
   "outputs": [
    {
     "data": {
      "text/plain": [
       "Survived       1.000000\n",
       "Fare           0.257307\n",
       "Parch          0.081629\n",
       "PassengerId   -0.005007\n",
       "SibSp         -0.035322\n",
       "Age           -0.077221\n",
       "Pclass        -0.338481\n",
       "Name: Survived, dtype: float64"
      ]
     },
     "execution_count": 216,
     "metadata": {},
     "output_type": "execute_result"
    }
   ],
   "source": [
    "corr_matrix = titanic_train.corr(numeric_only=True)\n",
    "corr_matrix[\"Survived\"].sort_values(ascending=False)"
   ]
  },
  {
   "cell_type": "markdown",
   "id": "56b64b88-94b5-4c3c-9078-13cfc176233d",
   "metadata": {},
   "source": [
    "## Creating new features (experiment)"
   ]
  },
  {
   "cell_type": "markdown",
   "id": "ce32577a-7230-46cf-ac06-073a6fb479f0",
   "metadata": {},
   "source": [
    "Age categories"
   ]
  },
  {
   "cell_type": "code",
   "execution_count": 217,
   "id": "d70283ae-33ca-461a-859d-449509efc06b",
   "metadata": {},
   "outputs": [],
   "source": [
    "tt = titanic_train.copy()\n",
    "tt['isKid'] = tt['Age'] < 18\n",
    "tt['isAdult'] = (tt['Age'] >= 18) & (tt['Age'] < 60)\n",
    "tt['isSenior'] = tt['Age'] >= 60"
   ]
  },
  {
   "cell_type": "markdown",
   "id": "f6b964ee-0e64-4142-8c09-f5b4038efa16",
   "metadata": {},
   "source": [
    "Additional numerical categories"
   ]
  },
  {
   "cell_type": "code",
   "execution_count": 218,
   "id": "7cce03e2-09d3-4c7c-a407-4a595438697f",
   "metadata": {},
   "outputs": [],
   "source": [
    "tt['FamilySize']=tt['SibSp'] + tt['Parch']\n",
    "tt['FarePerPerson']=tt['Fare']/(tt['FamilySize']+1)"
   ]
  },
  {
   "cell_type": "markdown",
   "id": "ec054d92-6a74-434b-9c4f-2544ba1b7d4a",
   "metadata": {},
   "source": [
    "Titles"
   ]
  },
  {
   "cell_type": "code",
   "execution_count": 219,
   "id": "f2cc1bf8-3413-478d-b46a-a818197ef759",
   "metadata": {},
   "outputs": [],
   "source": [
    "def substrings_in_string(big_string, substrings):\n",
    "    if isinstance(big_string, str):\n",
    "        for substring in substrings:\n",
    "            if substring in big_string:\n",
    "                return substring\n",
    "    return None\n",
    "    \n",
    "title_list=['Mrs', 'Mr', 'Master', 'Miss', 'Major', 'Rev',\n",
    "                    'Dr', 'Ms', 'Mlle','Col', 'Capt', 'Mme', 'Countess',\n",
    "                    'Don', 'Jonkheer']\n",
    "tt['Title']=tt['Name'].map(lambda x: substrings_in_string(x, title_list))\n",
    " \n",
    "#replacing all titles with mr, mrs, miss, master\n",
    "def replace_titles(x):\n",
    "    title=x['Title']\n",
    "    if title in ['Don', 'Major', 'Capt', 'Jonkheer', 'Rev', 'Col']:\n",
    "        return 'Mr'\n",
    "    elif title in ['Countess', 'Mme']:\n",
    "        return 'Mrs'\n",
    "    elif title in ['Mlle', 'Ms']:\n",
    "        return 'Miss'\n",
    "    elif title =='Dr':\n",
    "        if x['Sex']=='Male':\n",
    "            return 'Mr'\n",
    "        else:\n",
    "            return 'Mrs'\n",
    "    else:\n",
    "        return title\n",
    "        \n",
    "tt['Title']=tt.apply(replace_titles, axis=1)"
   ]
  },
  {
   "cell_type": "code",
   "execution_count": 220,
   "id": "cfff7b8c-be50-4117-bcf5-2510b03879a2",
   "metadata": {},
   "outputs": [],
   "source": [
    "def substrings_in_string_or_unknown(big_string, substrings):\n",
    "    if isinstance(big_string, str):\n",
    "        for substring in substrings:\n",
    "            if substring in big_string:\n",
    "                return substring\n",
    "    return 'Unknown'\n",
    "    \n",
    "#Turning cabin number into Deck\n",
    "cabin_list = ['A', 'B', 'C', 'D', 'E', 'F', 'T', 'G', 'Unknown']\n",
    "tt['Deck']=tt['Cabin'].map(lambda x: substrings_in_string_or_unknown(x, cabin_list))"
   ]
  },
  {
   "cell_type": "markdown",
   "id": "f9007463-4437-4217-8738-64c025881a8a",
   "metadata": {},
   "source": [
    "One-hot encoding of gender and class"
   ]
  },
  {
   "cell_type": "code",
   "execution_count": 221,
   "id": "eae67525-2519-4ac0-8c52-a173d4f52663",
   "metadata": {},
   "outputs": [],
   "source": [
    "from sklearn.preprocessing import OneHotEncoder\n",
    "\n",
    "# Instantiate encoders for each column\n",
    "encoder_sex = OneHotEncoder()\n",
    "encoder_pclass = OneHotEncoder()\n",
    "encoder_emb = OneHotEncoder()\n",
    "\n",
    "# Fit and transform each categorical column\n",
    "one_hot_encoded_sex = encoder_sex.fit_transform(tt[['Sex']])\n",
    "one_hot_encoded_pclass = encoder_pclass.fit_transform(tt[['Pclass']])\n",
    "one_hot_encoded_emb = encoder_emb.fit_transform(tt[['Embarked']])\n",
    "\n",
    "# Convert to dense arrays if needed\n",
    "one_hot_array_sex = one_hot_encoded_sex.toarray()\n",
    "one_hot_array_pclass = one_hot_encoded_pclass.toarray()\n",
    "one_hot_array_emb = one_hot_encoded_emb.toarray()\n",
    "\n",
    "# Create new DataFrames with one-hot encoded columns\n",
    "one_hot_df_sex = pd.DataFrame(one_hot_array_sex, columns=encoder_sex.get_feature_names_out(['Sex']))\n",
    "one_hot_df_pclass = pd.DataFrame(one_hot_array_pclass, columns=encoder_pclass.get_feature_names_out(['Pclass']))\n",
    "one_hot_df_emb = pd.DataFrame(one_hot_array_emb, columns=encoder_emb.get_feature_names_out(['Embarked']))\n",
    "\n",
    "# Concatenate the new DataFrames with the original DataFrame\n",
    "result_df = pd.concat([tt, one_hot_df_sex, one_hot_df_pclass, one_hot_df_emb], axis=1)"
   ]
  },
  {
   "cell_type": "code",
   "execution_count": 222,
   "id": "a01db88a-df92-40c0-8483-01e7382d82fa",
   "metadata": {},
   "outputs": [
    {
     "data": {
      "text/html": [
       "<div>\n",
       "<style scoped>\n",
       "    .dataframe tbody tr th:only-of-type {\n",
       "        vertical-align: middle;\n",
       "    }\n",
       "\n",
       "    .dataframe tbody tr th {\n",
       "        vertical-align: top;\n",
       "    }\n",
       "\n",
       "    .dataframe thead th {\n",
       "        text-align: right;\n",
       "    }\n",
       "</style>\n",
       "<table border=\"1\" class=\"dataframe\">\n",
       "  <thead>\n",
       "    <tr style=\"text-align: right;\">\n",
       "      <th></th>\n",
       "      <th>PassengerId</th>\n",
       "      <th>Survived</th>\n",
       "      <th>Pclass</th>\n",
       "      <th>Name</th>\n",
       "      <th>Sex</th>\n",
       "      <th>Age</th>\n",
       "      <th>SibSp</th>\n",
       "      <th>Parch</th>\n",
       "      <th>Ticket</th>\n",
       "      <th>Fare</th>\n",
       "      <th>...</th>\n",
       "      <th>Deck</th>\n",
       "      <th>Sex_female</th>\n",
       "      <th>Sex_male</th>\n",
       "      <th>Pclass_1</th>\n",
       "      <th>Pclass_2</th>\n",
       "      <th>Pclass_3</th>\n",
       "      <th>Embarked_C</th>\n",
       "      <th>Embarked_Q</th>\n",
       "      <th>Embarked_S</th>\n",
       "      <th>Embarked_nan</th>\n",
       "    </tr>\n",
       "  </thead>\n",
       "  <tbody>\n",
       "    <tr>\n",
       "      <th>0</th>\n",
       "      <td>1</td>\n",
       "      <td>0</td>\n",
       "      <td>3</td>\n",
       "      <td>Braund, Mr. Owen Harris</td>\n",
       "      <td>male</td>\n",
       "      <td>22.0</td>\n",
       "      <td>1</td>\n",
       "      <td>0</td>\n",
       "      <td>A/5 21171</td>\n",
       "      <td>7.2500</td>\n",
       "      <td>...</td>\n",
       "      <td>Unknown</td>\n",
       "      <td>0.0</td>\n",
       "      <td>1.0</td>\n",
       "      <td>0.0</td>\n",
       "      <td>0.0</td>\n",
       "      <td>1.0</td>\n",
       "      <td>0.0</td>\n",
       "      <td>0.0</td>\n",
       "      <td>1.0</td>\n",
       "      <td>0.0</td>\n",
       "    </tr>\n",
       "    <tr>\n",
       "      <th>1</th>\n",
       "      <td>2</td>\n",
       "      <td>1</td>\n",
       "      <td>1</td>\n",
       "      <td>Cumings, Mrs. John Bradley (Florence Briggs Th...</td>\n",
       "      <td>female</td>\n",
       "      <td>38.0</td>\n",
       "      <td>1</td>\n",
       "      <td>0</td>\n",
       "      <td>PC 17599</td>\n",
       "      <td>71.2833</td>\n",
       "      <td>...</td>\n",
       "      <td>C</td>\n",
       "      <td>1.0</td>\n",
       "      <td>0.0</td>\n",
       "      <td>1.0</td>\n",
       "      <td>0.0</td>\n",
       "      <td>0.0</td>\n",
       "      <td>1.0</td>\n",
       "      <td>0.0</td>\n",
       "      <td>0.0</td>\n",
       "      <td>0.0</td>\n",
       "    </tr>\n",
       "    <tr>\n",
       "      <th>2</th>\n",
       "      <td>3</td>\n",
       "      <td>1</td>\n",
       "      <td>3</td>\n",
       "      <td>Heikkinen, Miss. Laina</td>\n",
       "      <td>female</td>\n",
       "      <td>26.0</td>\n",
       "      <td>0</td>\n",
       "      <td>0</td>\n",
       "      <td>STON/O2. 3101282</td>\n",
       "      <td>7.9250</td>\n",
       "      <td>...</td>\n",
       "      <td>Unknown</td>\n",
       "      <td>1.0</td>\n",
       "      <td>0.0</td>\n",
       "      <td>0.0</td>\n",
       "      <td>0.0</td>\n",
       "      <td>1.0</td>\n",
       "      <td>0.0</td>\n",
       "      <td>0.0</td>\n",
       "      <td>1.0</td>\n",
       "      <td>0.0</td>\n",
       "    </tr>\n",
       "    <tr>\n",
       "      <th>3</th>\n",
       "      <td>4</td>\n",
       "      <td>1</td>\n",
       "      <td>1</td>\n",
       "      <td>Futrelle, Mrs. Jacques Heath (Lily May Peel)</td>\n",
       "      <td>female</td>\n",
       "      <td>35.0</td>\n",
       "      <td>1</td>\n",
       "      <td>0</td>\n",
       "      <td>113803</td>\n",
       "      <td>53.1000</td>\n",
       "      <td>...</td>\n",
       "      <td>C</td>\n",
       "      <td>1.0</td>\n",
       "      <td>0.0</td>\n",
       "      <td>1.0</td>\n",
       "      <td>0.0</td>\n",
       "      <td>0.0</td>\n",
       "      <td>0.0</td>\n",
       "      <td>0.0</td>\n",
       "      <td>1.0</td>\n",
       "      <td>0.0</td>\n",
       "    </tr>\n",
       "    <tr>\n",
       "      <th>4</th>\n",
       "      <td>5</td>\n",
       "      <td>0</td>\n",
       "      <td>3</td>\n",
       "      <td>Allen, Mr. William Henry</td>\n",
       "      <td>male</td>\n",
       "      <td>35.0</td>\n",
       "      <td>0</td>\n",
       "      <td>0</td>\n",
       "      <td>373450</td>\n",
       "      <td>8.0500</td>\n",
       "      <td>...</td>\n",
       "      <td>Unknown</td>\n",
       "      <td>0.0</td>\n",
       "      <td>1.0</td>\n",
       "      <td>0.0</td>\n",
       "      <td>0.0</td>\n",
       "      <td>1.0</td>\n",
       "      <td>0.0</td>\n",
       "      <td>0.0</td>\n",
       "      <td>1.0</td>\n",
       "      <td>0.0</td>\n",
       "    </tr>\n",
       "  </tbody>\n",
       "</table>\n",
       "<p>5 rows × 28 columns</p>\n",
       "</div>"
      ],
      "text/plain": [
       "   PassengerId  Survived  Pclass  \\\n",
       "0            1         0       3   \n",
       "1            2         1       1   \n",
       "2            3         1       3   \n",
       "3            4         1       1   \n",
       "4            5         0       3   \n",
       "\n",
       "                                                Name     Sex   Age  SibSp  \\\n",
       "0                            Braund, Mr. Owen Harris    male  22.0      1   \n",
       "1  Cumings, Mrs. John Bradley (Florence Briggs Th...  female  38.0      1   \n",
       "2                             Heikkinen, Miss. Laina  female  26.0      0   \n",
       "3       Futrelle, Mrs. Jacques Heath (Lily May Peel)  female  35.0      1   \n",
       "4                           Allen, Mr. William Henry    male  35.0      0   \n",
       "\n",
       "   Parch            Ticket     Fare  ...     Deck Sex_female  Sex_male  \\\n",
       "0      0         A/5 21171   7.2500  ...  Unknown        0.0       1.0   \n",
       "1      0          PC 17599  71.2833  ...        C        1.0       0.0   \n",
       "2      0  STON/O2. 3101282   7.9250  ...  Unknown        1.0       0.0   \n",
       "3      0            113803  53.1000  ...        C        1.0       0.0   \n",
       "4      0            373450   8.0500  ...  Unknown        0.0       1.0   \n",
       "\n",
       "   Pclass_1  Pclass_2  Pclass_3  Embarked_C Embarked_Q Embarked_S  \\\n",
       "0       0.0       0.0       1.0         0.0        0.0        1.0   \n",
       "1       1.0       0.0       0.0         1.0        0.0        0.0   \n",
       "2       0.0       0.0       1.0         0.0        0.0        1.0   \n",
       "3       1.0       0.0       0.0         0.0        0.0        1.0   \n",
       "4       0.0       0.0       1.0         0.0        0.0        1.0   \n",
       "\n",
       "   Embarked_nan  \n",
       "0           0.0  \n",
       "1           0.0  \n",
       "2           0.0  \n",
       "3           0.0  \n",
       "4           0.0  \n",
       "\n",
       "[5 rows x 28 columns]"
      ]
     },
     "execution_count": 222,
     "metadata": {},
     "output_type": "execute_result"
    }
   ],
   "source": [
    "result_df.head()"
   ]
  },
  {
   "cell_type": "markdown",
   "id": "44a51e59-d793-49f0-9e95-01bd5c0a25b2",
   "metadata": {},
   "source": [
    "## Data preparation"
   ]
  },
  {
   "cell_type": "markdown",
   "id": "faaabc00-4b27-4116-9ad7-3f72450453a7",
   "metadata": {},
   "source": [
    "Separate the predictors and the labels"
   ]
  },
  {
   "cell_type": "code",
   "execution_count": 223,
   "id": "e003f1bb-79a6-4034-9e09-77918f7955c6",
   "metadata": {},
   "outputs": [],
   "source": [
    "tt = titanic_train.dropna(subset=[\"Embarked\"])\n",
    "tt_labels = tt[\"Survived\"].copy()\n",
    "tt = tt.drop(\"Survived\", axis=1)"
   ]
  },
  {
   "cell_type": "markdown",
   "id": "4a64653d-a42e-491d-a217-92a64f2f0597",
   "metadata": {},
   "source": [
    "### Handling empty values"
   ]
  },
  {
   "cell_type": "markdown",
   "id": "e0ceaca6-a738-44c7-91ba-e9cc5a26d654",
   "metadata": {},
   "source": [
    "Some rows have missing values in the Age, Cabin and Embarked columns.\n",
    "\n",
    "If Cabin is missing, this means that the passenger is not from the 1st class, so this data should be kept.\n",
    "\n",
    "There are only two rows without Embarked value, we can drop them.\n",
    "\n",
    "For the Age (100+ empty values) filling in with median value will probably be a good idea."
   ]
  },
  {
   "cell_type": "markdown",
   "id": "c7404e03-037e-4d9a-8a12-178c8ba50494",
   "metadata": {},
   "source": [
    "### Creating data processing pipeline"
   ]
  },
  {
   "cell_type": "markdown",
   "id": "9e694518-9275-4f30-9937-70e1afeb557f",
   "metadata": {},
   "source": [
    "Drop columns and rows"
   ]
  },
  {
   "cell_type": "code",
   "execution_count": 224,
   "id": "a3d5d4a8-1a45-48e6-b2b5-3b5e748f90d2",
   "metadata": {},
   "outputs": [],
   "source": [
    "from sklearn.pipeline import FunctionTransformer, make_pipeline\n",
    "\n",
    "# Define FunctionTransformers\n",
    "dropPassIdFTransformer = FunctionTransformer(lambda df: df.drop(columns=['PassengerId'], axis=1))\n",
    "dropNaEmbarkedFTransformer = FunctionTransformer(lambda df: df.dropna(subset=[\"Embarked\"]))"
   ]
  },
  {
   "cell_type": "markdown",
   "id": "89013104-d469-492a-8f05-1bec189cc84f",
   "metadata": {},
   "source": [
    "Dividing columns into numerical and categorial"
   ]
  },
  {
   "cell_type": "code",
   "execution_count": 225,
   "id": "5126f74e-0da3-4cd3-9c8d-d0366a4f40d4",
   "metadata": {},
   "outputs": [],
   "source": [
    "numerical_columns = ['SibSp', 'Parch', 'Fare']\n",
    "categorial_columns = ['Pclass', 'Name', 'Sex', 'Cabin', 'Embarked']"
   ]
  },
  {
   "cell_type": "markdown",
   "id": "00291d7c-9787-4936-ab95-272383e78c06",
   "metadata": {},
   "source": [
    "Impute missing values"
   ]
  },
  {
   "cell_type": "code",
   "execution_count": 226,
   "id": "fe7eb447-8058-45e6-8d11-2b83510f8ced",
   "metadata": {},
   "outputs": [],
   "source": [
    "from sklearn.impute import SimpleImputer\n",
    "imputer = SimpleImputer(strategy=\"median\")"
   ]
  },
  {
   "cell_type": "markdown",
   "id": "004ce3db-d219-4433-9ba5-811c6680f16a",
   "metadata": {},
   "source": [
    "Create new features"
   ]
  },
  {
   "cell_type": "code",
   "execution_count": 227,
   "id": "91be9c70-854a-482c-9f97-890c8a345729",
   "metadata": {},
   "outputs": [],
   "source": [
    "from sklearn.base import BaseEstimator, TransformerMixin\n",
    "import numpy as np\n",
    "\n",
    "sibsp_ix, parch_ix, fare_ix = 0, 1, 2\n",
    "class CalculateRatiosAndSums(BaseEstimator, TransformerMixin):\n",
    "    def fit(self, X, y=None):\n",
    "        return self\n",
    "\n",
    "    def transform(self, X):\n",
    "        family_size = X[:, sibsp_ix] + X[:, parch_ix]\n",
    "        fare_per_person = X[:, fare_ix]/(family_size + 1)\n",
    "        return np.c_[X, family_size, fare_per_person]\n",
    "\n",
    "    def get_feature_names_out(self, input_features=numerical_columns):\n",
    "        # Assuming input_features is a list of input feature names\n",
    "        output_features = np.append(input_features, ['FamilySize', 'FarePerPerson'])\n",
    "        return output_features"
   ]
  },
  {
   "cell_type": "code",
   "execution_count": 228,
   "id": "40a2107d-8f1b-4a86-be55-453a993d6586",
   "metadata": {},
   "outputs": [],
   "source": [
    "def substrings_in_string(big_string, substrings):\n",
    "    if isinstance(big_string, str):\n",
    "        for substring in substrings:\n",
    "            if substring in big_string:\n",
    "                return substring\n",
    "    return None\n",
    "    \n",
    "title_list=['Mrs', 'Mr', 'Master', 'Miss', 'Major', 'Rev',\n",
    "                    'Dr', 'Ms', 'Mlle','Col', 'Capt', 'Mme', 'Countess',\n",
    "                    'Don', 'Jonkheer']\n",
    " \n",
    "#replacing all titles with mr, mrs, miss, master\n",
    "def replace_titles(x):\n",
    "    title=x['Title']\n",
    "    if title in ['Don', 'Major', 'Capt', 'Jonkheer', 'Rev', 'Col']:\n",
    "        return 'Mr'\n",
    "    elif title in ['Countess', 'Mme']:\n",
    "        return 'Mrs'\n",
    "    elif title in ['Mlle', 'Ms']:\n",
    "        return 'Miss'\n",
    "    elif title =='Dr':\n",
    "        if x['Sex']=='Male':\n",
    "            return 'Mr'\n",
    "        else:\n",
    "            return 'Mrs'\n",
    "    else:\n",
    "        return title\n",
    "        \n",
    "\n",
    "\n",
    "class CreateNewCatColumns(BaseEstimator, TransformerMixin):\n",
    "        \n",
    "    def fit(self, X, y=None):\n",
    "        return self\n",
    "\n",
    "    def transform(self, X):\n",
    "        # Custom logic to create new columns\n",
    "        X['Deck'] = X['Cabin'].map(lambda n: substrings_in_string_or_unknown(n, cabin_list))\n",
    "        \n",
    "        X['Title'] = X['Name'].map(lambda n: substrings_in_string(n, title_list))\n",
    "        X['Title']=X.apply(replace_titles, axis=1)\n",
    "        return X\n",
    "        \n",
    "    def get_feature_names_out(self, input_features=categorial_columns):\n",
    "        # Assuming input_features is a list of input feature names\n",
    "        output_features = np.append(input_features, ['Deck', 'Title'])\n",
    "        return output_features\n",
    "\n",
    "class AgeToCategory(BaseEstimator, TransformerMixin):\n",
    "        \n",
    "    def fit(self, X, y=None):\n",
    "        return self\n",
    "\n",
    "    def transform(self, X):\n",
    "\n",
    "        X['isKid'] = X['Age'] < 18\n",
    "        X['isAdult'] = (X['Age'] >= 18) & (X['Age'] < 60)\n",
    "        X['isSenior'] = X['Age'] >= 60\n",
    "        \n",
    "        return X[['isKid', 'isAdult', 'isSenior']]\n"
   ]
  },
  {
   "cell_type": "markdown",
   "id": "9b4b124d-06b1-409b-988a-7d066e825194",
   "metadata": {},
   "source": [
    "One-hot encoding"
   ]
  },
  {
   "cell_type": "code",
   "execution_count": 247,
   "id": "bb003aa0-751d-4b6f-9089-884eecbbe0f8",
   "metadata": {},
   "outputs": [],
   "source": [
    "from sklearn.compose import ColumnTransformer\n",
    "# List of columns to one-hot encode\n",
    "one_hot_columns = ['Sex', 'Pclass', 'Embarked', 'Title']\n",
    "# Creating a ColumnTransformer for one-hot encoding\n",
    "one_hot_preprocessor = ColumnTransformer(\n",
    "    transformers=[\n",
    "        ('one_hot_deck', OneHotEncoder(categories=[cabin_list], sparse_output=False), ['Deck']),\n",
    "        ('one_hot', OneHotEncoder(sparse_output=False), one_hot_columns),\n",
    "        ('drop_after_one_hot', FunctionTransformer(lambda df: df.drop(columns=['Sex', 'Pclass', 'Embarked', 'Title', 'Deck'], axis=1)), ['Sex', 'Pclass', 'Embarked', 'Title', 'Deck'])\n",
    "    ],\n",
    "    remainder='passthrough'\n",
    ")"
   ]
  },
  {
   "cell_type": "markdown",
   "id": "9f097a66-f684-465e-bd9e-8de53a482ab1",
   "metadata": {},
   "source": [
    "Assemble the pipelines"
   ]
  },
  {
   "cell_type": "code",
   "execution_count": 248,
   "id": "0368e5a0-80f7-44a4-8133-62714007c66f",
   "metadata": {},
   "outputs": [],
   "source": [
    "from sklearn.pipeline import Pipeline\n",
    "from sklearn.preprocessing import StandardScaler\n",
    "from sklearn.compose import ColumnTransformer\n",
    "\n",
    "num_pipeline = Pipeline([\n",
    "    (\"impute\", SimpleImputer(strategy=\"median\")),\n",
    "    (\"calc_ratios\", CalculateRatiosAndSums()),\n",
    "    (\"standardize\", StandardScaler())\n",
    "])\n",
    "\n",
    "cat_pipeline = Pipeline([\n",
    "    ('new_columns', CreateNewCatColumns()),\n",
    "    ('drop_after_new_columns', FunctionTransformer(lambda df: df.drop(columns=['Cabin', 'Name']))),\n",
    "    ('one_hot', one_hot_preprocessor),\n",
    "])\n",
    "\n",
    "preprocessing = ColumnTransformer([\n",
    "    (\"num\", num_pipeline, numerical_columns),\n",
    "    (\"cat\", cat_pipeline, categorial_columns),\n",
    "    (\"drop_passenger_id\", FunctionTransformer(lambda df: df.drop(columns=['PassengerId'], axis=1)), [\"PassengerId\"]),\n",
    "    (\"drop_ticket\", FunctionTransformer(lambda df: df.drop(columns=['Ticket'], axis=1)), [\"Ticket\"]),\n",
    "    (\"age_to_category\", AgeToCategory(), ['Age']),\n",
    "    (\"drop_age\", FunctionTransformer(lambda df: df.drop(columns=['Age'], axis=1)), [\"Age\"]),\n",
    "])"
   ]
  },
  {
   "cell_type": "code",
   "execution_count": 249,
   "id": "944cf467-9635-4075-9d7d-011e47de8098",
   "metadata": {},
   "outputs": [
    {
     "data": {
      "text/html": [
       "<div>\n",
       "<style scoped>\n",
       "    .dataframe tbody tr th:only-of-type {\n",
       "        vertical-align: middle;\n",
       "    }\n",
       "\n",
       "    .dataframe tbody tr th {\n",
       "        vertical-align: top;\n",
       "    }\n",
       "\n",
       "    .dataframe thead th {\n",
       "        text-align: right;\n",
       "    }\n",
       "</style>\n",
       "<table border=\"1\" class=\"dataframe\">\n",
       "  <thead>\n",
       "    <tr style=\"text-align: right;\">\n",
       "      <th></th>\n",
       "      <th>0</th>\n",
       "      <th>1</th>\n",
       "      <th>2</th>\n",
       "      <th>3</th>\n",
       "      <th>4</th>\n",
       "      <th>5</th>\n",
       "      <th>6</th>\n",
       "      <th>7</th>\n",
       "      <th>8</th>\n",
       "      <th>9</th>\n",
       "      <th>...</th>\n",
       "      <th>19</th>\n",
       "      <th>20</th>\n",
       "      <th>21</th>\n",
       "      <th>22</th>\n",
       "      <th>23</th>\n",
       "      <th>24</th>\n",
       "      <th>25</th>\n",
       "      <th>26</th>\n",
       "      <th>27</th>\n",
       "      <th>28</th>\n",
       "    </tr>\n",
       "  </thead>\n",
       "  <tbody>\n",
       "    <tr>\n",
       "      <th>0</th>\n",
       "      <td>0.43135</td>\n",
       "      <td>-0.474326</td>\n",
       "      <td>-0.500240</td>\n",
       "      <td>0.057853</td>\n",
       "      <td>-0.451950</td>\n",
       "      <td>0.0</td>\n",
       "      <td>0.0</td>\n",
       "      <td>0.0</td>\n",
       "      <td>0.0</td>\n",
       "      <td>0.0</td>\n",
       "      <td>...</td>\n",
       "      <td>0.0</td>\n",
       "      <td>0.0</td>\n",
       "      <td>1.0</td>\n",
       "      <td>0.0</td>\n",
       "      <td>0.0</td>\n",
       "      <td>1.0</td>\n",
       "      <td>0.0</td>\n",
       "      <td>0.0</td>\n",
       "      <td>1.0</td>\n",
       "      <td>0.0</td>\n",
       "    </tr>\n",
       "    <tr>\n",
       "      <th>1</th>\n",
       "      <td>0.43135</td>\n",
       "      <td>-0.474326</td>\n",
       "      <td>0.788947</td>\n",
       "      <td>0.057853</td>\n",
       "      <td>0.443677</td>\n",
       "      <td>0.0</td>\n",
       "      <td>0.0</td>\n",
       "      <td>1.0</td>\n",
       "      <td>0.0</td>\n",
       "      <td>0.0</td>\n",
       "      <td>...</td>\n",
       "      <td>1.0</td>\n",
       "      <td>0.0</td>\n",
       "      <td>0.0</td>\n",
       "      <td>0.0</td>\n",
       "      <td>0.0</td>\n",
       "      <td>0.0</td>\n",
       "      <td>1.0</td>\n",
       "      <td>0.0</td>\n",
       "      <td>1.0</td>\n",
       "      <td>0.0</td>\n",
       "    </tr>\n",
       "  </tbody>\n",
       "</table>\n",
       "<p>2 rows × 29 columns</p>\n",
       "</div>"
      ],
      "text/plain": [
       "        0         1         2         3         4    5    6    7    8    9   \\\n",
       "0  0.43135 -0.474326 -0.500240  0.057853 -0.451950  0.0  0.0  0.0  0.0  0.0   \n",
       "1  0.43135 -0.474326  0.788947  0.057853  0.443677  0.0  0.0  1.0  0.0  0.0   \n",
       "\n",
       "   ...   19   20   21   22   23   24   25   26   27   28  \n",
       "0  ...  0.0  0.0  1.0  0.0  0.0  1.0  0.0  0.0  1.0  0.0  \n",
       "1  ...  1.0  0.0  0.0  0.0  0.0  0.0  1.0  0.0  1.0  0.0  \n",
       "\n",
       "[2 rows x 29 columns]"
      ]
     },
     "execution_count": 249,
     "metadata": {},
     "output_type": "execute_result"
    }
   ],
   "source": [
    "titanic_prepared = preprocessing.fit_transform(tt)\n",
    "\n",
    "# original column names\n",
    "column_names = ['num__SibSp', 'num__Parch', 'num__Fare', 'num_FamilySize', 'num_FarePerPerson', 'cat__one_hot__Sex_female', 'cat__one_hot__Sex_male', 'cat__one_hot__Pclass_1', 'cat__one_hot__Pclass_2', 'cat__one_hot__Pclass_3', 'cat__one_hot__Embarked_C', 'cat__one_hot__Embarked_Q', 'cat__one_hot__Embarked_S', 'cat__remainder__Deck', 'cat__remainder__Title']\n",
    "\n",
    "# shortened column names\n",
    "column_names = ['SibSp', 'Parch', 'Fare', 'FamilySize', 'FarePerPerson', 'female', 'male', 'Pclass_1', 'Pclass_2', 'Pclass_3', 'Embarked_C', 'Embarked_Q', 'Embarked_S', 'Deck', 'Title', 'isKid', 'isAdult', 'isSenior']\n",
    "# extra code – shows that we can get a DataFrame out if we want\n",
    "titanic_prepared_fr = pd.DataFrame(\n",
    "    titanic_prepared,\n",
    "    # columns = column_names, \n",
    "    index=tt.index)\n",
    "titanic_prepared_fr.head(2)"
   ]
  },
  {
   "cell_type": "code",
   "execution_count": 250,
   "id": "6fb9d400-7f66-4e45-b9cc-f3d95fa2d87f",
   "metadata": {},
   "outputs": [],
   "source": [
    "def prepare_data(dataset):\n",
    "    cleaned_ds = dataset.dropna(subset=[\"Embarked\"])\n",
    "    labels = cleaned_ds[\"Survived\"].copy()\n",
    "    ds_features = cleaned_ds.drop(\"Survived\", axis=1)\n",
    "    ds_prepared = preprocessing.fit_transform(ds_features)\n",
    "    return ds_prepared, labels"
   ]
  },
  {
   "cell_type": "code",
   "execution_count": 251,
   "id": "771ba2a4-7b24-4379-a533-fe90b32474af",
   "metadata": {},
   "outputs": [
    {
     "name": "stdout",
     "output_type": "stream",
     "text": [
      "(711, 29)\n",
      "(711,)\n",
      "Accuracy: 0.8089887640449438\n",
      "Accuracy scores for each fold: [0.72222222 0.91666667 0.69444444 0.82857143 0.82857143]\n",
      "Mean Accuracy: 0.7981\n",
      "Standard Deviation: 0.0805\n"
     ]
    }
   ],
   "source": [
    "from sklearn.model_selection import train_test_split\n",
    "from sklearn.ensemble import RandomForestClassifier\n",
    "from sklearn.metrics import accuracy_score\n",
    "from sklearn.model_selection import cross_val_score, StratifiedKFold\n",
    "\n",
    "\n",
    "titanic_train_x, titanic_train_y = prepare_data(titanic_train)\n",
    "X_train, X_test, y_train, y_test = train_test_split(titanic_train_x, titanic_train_y, test_size=0.2, random_state=42)\n",
    "print(X_train.shape)\n",
    "print(y_train.shape)\n",
    "\n",
    "forest_model = RandomForestClassifier(n_estimators=100, max_depth=5, random_state=1)\n",
    "forest_model.fit(X_train, y_train)\n",
    "\n",
    "y_pred = forest_model.predict(X_test)\n",
    "\n",
    "accuracy = accuracy_score(y_test, y_pred)\n",
    "print(f\"Accuracy: {accuracy}\")\n",
    "\n",
    "cv_strategy = StratifiedKFold(n_splits=5, shuffle=True, random_state=42)\n",
    "scores = cross_val_score(forest_model, X_test, y_test, cv=cv_strategy, scoring='accuracy')\n",
    "\n",
    "# Print accuracy scores\n",
    "print(\"Accuracy scores for each fold:\", scores)\n",
    "\n",
    "# Print mean and standard deviation of accuracy\n",
    "print(f\"Mean Accuracy: {scores.mean():.4f}\")\n",
    "print(f\"Standard Deviation: {scores.std():.4f}\")"
   ]
  },
  {
   "cell_type": "code",
   "execution_count": 252,
   "id": "b5b863db-8a04-4d36-bb27-76e3e9591f38",
   "metadata": {},
   "outputs": [
    {
     "name": "stdout",
     "output_type": "stream",
     "text": [
      "Accuracy: 0.8202247191011236\n",
      "Accuracy scores for each fold: [0.72222222 0.88888889 0.69444444 0.82857143 0.77142857]\n",
      "Mean Accuracy: 0.7811\n",
      "Standard Deviation: 0.0706\n"
     ]
    }
   ],
   "source": [
    "from sklearn.linear_model import LogisticRegression\n",
    "\n",
    "model = LogisticRegression()\n",
    "model.fit(X_train, y_train)\n",
    "\n",
    "y_pred = model.predict(X_test)\n",
    "\n",
    "accuracy = accuracy_score(y_test, y_pred)\n",
    "print(f\"Accuracy: {accuracy}\")\n",
    "\n",
    "cv_strategy = StratifiedKFold(n_splits=5, shuffle=True, random_state=42)\n",
    "scores = cross_val_score(model, X_test, y_test, cv=cv_strategy, scoring='accuracy')\n",
    "\n",
    "# Print accuracy scores\n",
    "print(\"Accuracy scores for each fold:\", scores)\n",
    "\n",
    "# Print mean and standard deviation of accuracy\n",
    "print(f\"Mean Accuracy: {scores.mean():.4f}\")\n",
    "print(f\"Standard Deviation: {scores.std():.4f}\")"
   ]
  },
  {
   "cell_type": "markdown",
   "id": "68ffbb0c-2df0-4fa4-95ab-40186d3c9655",
   "metadata": {},
   "source": [
    "### Make prediction"
   ]
  },
  {
   "cell_type": "code",
   "execution_count": 253,
   "id": "28bbd4bc-0c5b-42aa-b646-a0f2ae701afe",
   "metadata": {},
   "outputs": [
    {
     "name": "stdout",
     "output_type": "stream",
     "text": [
      "(418, 29)\n"
     ]
    }
   ],
   "source": [
    "def prepare_data(dataset):\n",
    "    # ds_features = dataset.drop(\"Embarked\", axis=1)\n",
    "    ds_prepared = preprocessing.fit_transform(dataset)\n",
    "    return ds_prepared\n",
    "    \n",
    "titanic_test_x = prepare_data(titanic_test)\n",
    "print(titanic_test_x.shape)\n",
    "predictions = forest_model.predict(titanic_test_x)\n",
    "\n",
    "output = pd.DataFrame({'PassengerId': titanic_test.PassengerId, 'Survived': predictions})\n",
    "output.to_csv('submission.csv', index=False)"
   ]
  }
 ],
 "metadata": {
  "kernelspec": {
   "display_name": "Python 3 (ipykernel)",
   "language": "python",
   "name": "python3"
  },
  "language_info": {
   "codemirror_mode": {
    "name": "ipython",
    "version": 3
   },
   "file_extension": ".py",
   "mimetype": "text/x-python",
   "name": "python",
   "nbconvert_exporter": "python",
   "pygments_lexer": "ipython3",
   "version": "3.12.1"
  }
 },
 "nbformat": 4,
 "nbformat_minor": 5
}
